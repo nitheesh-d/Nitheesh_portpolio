{
  "nbformat": 4,
  "nbformat_minor": 0,
  "metadata": {
    "colab": {
      "provenance": []
    },
    "kernelspec": {
      "name": "python3",
      "display_name": "Python 3"
    },
    "language_info": {
      "name": "python"
    }
  },
  "cells": [
    {
      "cell_type": "code",
      "execution_count": null,
      "metadata": {
        "id": "97iBV68ZDCQq"
      },
      "outputs": [],
      "source": [
        "import pandas as pd\n",
        "import numpy as np\n",
        "import matplotlib.pyplot as plt\n",
        "import seaborn as sns\n",
        "import plotly.express as px\n",
        "import plotly.graph_objects as go\n",
        "import pandas as pd\n",
        "from plotly.subplots import make_subplots\n",
        "import warnings\n",
        "warnings.filterwarnings('ignore')"
      ]
    },
    {
      "cell_type": "code",
      "source": [
        "df=pd.read_csv('/content/urinalysis_tests.csv')\n",
        "df.head()"
      ],
      "metadata": {
        "colab": {
          "base_uri": "https://localhost:8080/",
          "height": 330
        },
        "id": "VZMXdJtMDRBS",
        "outputId": "c36d3971-89d1-418b-eafe-5aa2e58111c9"
      },
      "execution_count": null,
      "outputs": [
        {
          "output_type": "execute_result",
          "data": {
            "text/plain": [
              "   Unnamed: 0   Age  Gender         Color   Transparency   Glucose   Protein  \\\n",
              "0           0  76.0  FEMALE  LIGHT YELLOW          CLEAR  NEGATIVE  NEGATIVE   \n",
              "1           1   9.0    MALE   DARK YELLOW  SLIGHTLY HAZY  NEGATIVE        1+   \n",
              "2           2  12.0    MALE  LIGHT YELLOW  SLIGHTLY HAZY  NEGATIVE     TRACE   \n",
              "3           3  77.0    MALE         BROWN         CLOUDY  NEGATIVE        1+   \n",
              "4           4  29.0  FEMALE        YELLOW           HAZY  NEGATIVE     TRACE   \n",
              "\n",
              "    pH  Specific Gravity  WBC     RBC Epithelial Cells Mucous Threads  \\\n",
              "0  5.0             1.010  1-3     0-2       OCCASIONAL           RARE   \n",
              "1  5.0             1.030  1-3     0-2             RARE            FEW   \n",
              "2  5.0             1.030  0-3     0-2             RARE            FEW   \n",
              "3  6.0             1.020  5-8  LOADED             RARE           RARE   \n",
              "4  6.0             1.025  1-4     0-2             RARE           RARE   \n",
              "\n",
              "  Amorphous Urates    Bacteria Diagnosis  \n",
              "0        NONE SEEN  OCCASIONAL  NEGATIVE  \n",
              "1              FEW    MODERATE  NEGATIVE  \n",
              "2         MODERATE        RARE  NEGATIVE  \n",
              "3        NONE SEEN         FEW  NEGATIVE  \n",
              "4        NONE SEEN         FEW  NEGATIVE  "
            ],
            "text/html": [
              "\n",
              "  <div id=\"df-85eec94f-bc4c-4191-88a1-9c1a871dcb99\" class=\"colab-df-container\">\n",
              "    <div>\n",
              "<style scoped>\n",
              "    .dataframe tbody tr th:only-of-type {\n",
              "        vertical-align: middle;\n",
              "    }\n",
              "\n",
              "    .dataframe tbody tr th {\n",
              "        vertical-align: top;\n",
              "    }\n",
              "\n",
              "    .dataframe thead th {\n",
              "        text-align: right;\n",
              "    }\n",
              "</style>\n",
              "<table border=\"1\" class=\"dataframe\">\n",
              "  <thead>\n",
              "    <tr style=\"text-align: right;\">\n",
              "      <th></th>\n",
              "      <th>Unnamed: 0</th>\n",
              "      <th>Age</th>\n",
              "      <th>Gender</th>\n",
              "      <th>Color</th>\n",
              "      <th>Transparency</th>\n",
              "      <th>Glucose</th>\n",
              "      <th>Protein</th>\n",
              "      <th>pH</th>\n",
              "      <th>Specific Gravity</th>\n",
              "      <th>WBC</th>\n",
              "      <th>RBC</th>\n",
              "      <th>Epithelial Cells</th>\n",
              "      <th>Mucous Threads</th>\n",
              "      <th>Amorphous Urates</th>\n",
              "      <th>Bacteria</th>\n",
              "      <th>Diagnosis</th>\n",
              "    </tr>\n",
              "  </thead>\n",
              "  <tbody>\n",
              "    <tr>\n",
              "      <th>0</th>\n",
              "      <td>0</td>\n",
              "      <td>76.0</td>\n",
              "      <td>FEMALE</td>\n",
              "      <td>LIGHT YELLOW</td>\n",
              "      <td>CLEAR</td>\n",
              "      <td>NEGATIVE</td>\n",
              "      <td>NEGATIVE</td>\n",
              "      <td>5.0</td>\n",
              "      <td>1.010</td>\n",
              "      <td>1-3</td>\n",
              "      <td>0-2</td>\n",
              "      <td>OCCASIONAL</td>\n",
              "      <td>RARE</td>\n",
              "      <td>NONE SEEN</td>\n",
              "      <td>OCCASIONAL</td>\n",
              "      <td>NEGATIVE</td>\n",
              "    </tr>\n",
              "    <tr>\n",
              "      <th>1</th>\n",
              "      <td>1</td>\n",
              "      <td>9.0</td>\n",
              "      <td>MALE</td>\n",
              "      <td>DARK YELLOW</td>\n",
              "      <td>SLIGHTLY HAZY</td>\n",
              "      <td>NEGATIVE</td>\n",
              "      <td>1+</td>\n",
              "      <td>5.0</td>\n",
              "      <td>1.030</td>\n",
              "      <td>1-3</td>\n",
              "      <td>0-2</td>\n",
              "      <td>RARE</td>\n",
              "      <td>FEW</td>\n",
              "      <td>FEW</td>\n",
              "      <td>MODERATE</td>\n",
              "      <td>NEGATIVE</td>\n",
              "    </tr>\n",
              "    <tr>\n",
              "      <th>2</th>\n",
              "      <td>2</td>\n",
              "      <td>12.0</td>\n",
              "      <td>MALE</td>\n",
              "      <td>LIGHT YELLOW</td>\n",
              "      <td>SLIGHTLY HAZY</td>\n",
              "      <td>NEGATIVE</td>\n",
              "      <td>TRACE</td>\n",
              "      <td>5.0</td>\n",
              "      <td>1.030</td>\n",
              "      <td>0-3</td>\n",
              "      <td>0-2</td>\n",
              "      <td>RARE</td>\n",
              "      <td>FEW</td>\n",
              "      <td>MODERATE</td>\n",
              "      <td>RARE</td>\n",
              "      <td>NEGATIVE</td>\n",
              "    </tr>\n",
              "    <tr>\n",
              "      <th>3</th>\n",
              "      <td>3</td>\n",
              "      <td>77.0</td>\n",
              "      <td>MALE</td>\n",
              "      <td>BROWN</td>\n",
              "      <td>CLOUDY</td>\n",
              "      <td>NEGATIVE</td>\n",
              "      <td>1+</td>\n",
              "      <td>6.0</td>\n",
              "      <td>1.020</td>\n",
              "      <td>5-8</td>\n",
              "      <td>LOADED</td>\n",
              "      <td>RARE</td>\n",
              "      <td>RARE</td>\n",
              "      <td>NONE SEEN</td>\n",
              "      <td>FEW</td>\n",
              "      <td>NEGATIVE</td>\n",
              "    </tr>\n",
              "    <tr>\n",
              "      <th>4</th>\n",
              "      <td>4</td>\n",
              "      <td>29.0</td>\n",
              "      <td>FEMALE</td>\n",
              "      <td>YELLOW</td>\n",
              "      <td>HAZY</td>\n",
              "      <td>NEGATIVE</td>\n",
              "      <td>TRACE</td>\n",
              "      <td>6.0</td>\n",
              "      <td>1.025</td>\n",
              "      <td>1-4</td>\n",
              "      <td>0-2</td>\n",
              "      <td>RARE</td>\n",
              "      <td>RARE</td>\n",
              "      <td>NONE SEEN</td>\n",
              "      <td>FEW</td>\n",
              "      <td>NEGATIVE</td>\n",
              "    </tr>\n",
              "  </tbody>\n",
              "</table>\n",
              "</div>\n",
              "    <div class=\"colab-df-buttons\">\n",
              "\n",
              "  <div class=\"colab-df-container\">\n",
              "    <button class=\"colab-df-convert\" onclick=\"convertToInteractive('df-85eec94f-bc4c-4191-88a1-9c1a871dcb99')\"\n",
              "            title=\"Convert this dataframe to an interactive table.\"\n",
              "            style=\"display:none;\">\n",
              "\n",
              "  <svg xmlns=\"http://www.w3.org/2000/svg\" height=\"24px\" viewBox=\"0 -960 960 960\">\n",
              "    <path d=\"M120-120v-720h720v720H120Zm60-500h600v-160H180v160Zm220 220h160v-160H400v160Zm0 220h160v-160H400v160ZM180-400h160v-160H180v160Zm440 0h160v-160H620v160ZM180-180h160v-160H180v160Zm440 0h160v-160H620v160Z\"/>\n",
              "  </svg>\n",
              "    </button>\n",
              "\n",
              "  <style>\n",
              "    .colab-df-container {\n",
              "      display:flex;\n",
              "      gap: 12px;\n",
              "    }\n",
              "\n",
              "    .colab-df-convert {\n",
              "      background-color: #E8F0FE;\n",
              "      border: none;\n",
              "      border-radius: 50%;\n",
              "      cursor: pointer;\n",
              "      display: none;\n",
              "      fill: #1967D2;\n",
              "      height: 32px;\n",
              "      padding: 0 0 0 0;\n",
              "      width: 32px;\n",
              "    }\n",
              "\n",
              "    .colab-df-convert:hover {\n",
              "      background-color: #E2EBFA;\n",
              "      box-shadow: 0px 1px 2px rgba(60, 64, 67, 0.3), 0px 1px 3px 1px rgba(60, 64, 67, 0.15);\n",
              "      fill: #174EA6;\n",
              "    }\n",
              "\n",
              "    .colab-df-buttons div {\n",
              "      margin-bottom: 4px;\n",
              "    }\n",
              "\n",
              "    [theme=dark] .colab-df-convert {\n",
              "      background-color: #3B4455;\n",
              "      fill: #D2E3FC;\n",
              "    }\n",
              "\n",
              "    [theme=dark] .colab-df-convert:hover {\n",
              "      background-color: #434B5C;\n",
              "      box-shadow: 0px 1px 3px 1px rgba(0, 0, 0, 0.15);\n",
              "      filter: drop-shadow(0px 1px 2px rgba(0, 0, 0, 0.3));\n",
              "      fill: #FFFFFF;\n",
              "    }\n",
              "  </style>\n",
              "\n",
              "    <script>\n",
              "      const buttonEl =\n",
              "        document.querySelector('#df-85eec94f-bc4c-4191-88a1-9c1a871dcb99 button.colab-df-convert');\n",
              "      buttonEl.style.display =\n",
              "        google.colab.kernel.accessAllowed ? 'block' : 'none';\n",
              "\n",
              "      async function convertToInteractive(key) {\n",
              "        const element = document.querySelector('#df-85eec94f-bc4c-4191-88a1-9c1a871dcb99');\n",
              "        const dataTable =\n",
              "          await google.colab.kernel.invokeFunction('convertToInteractive',\n",
              "                                                    [key], {});\n",
              "        if (!dataTable) return;\n",
              "\n",
              "        const docLinkHtml = 'Like what you see? Visit the ' +\n",
              "          '<a target=\"_blank\" href=https://colab.research.google.com/notebooks/data_table.ipynb>data table notebook</a>'\n",
              "          + ' to learn more about interactive tables.';\n",
              "        element.innerHTML = '';\n",
              "        dataTable['output_type'] = 'display_data';\n",
              "        await google.colab.output.renderOutput(dataTable, element);\n",
              "        const docLink = document.createElement('div');\n",
              "        docLink.innerHTML = docLinkHtml;\n",
              "        element.appendChild(docLink);\n",
              "      }\n",
              "    </script>\n",
              "  </div>\n",
              "\n",
              "\n",
              "<div id=\"df-2ea54919-fc78-4628-aa87-531672f87fa8\">\n",
              "  <button class=\"colab-df-quickchart\" onclick=\"quickchart('df-2ea54919-fc78-4628-aa87-531672f87fa8')\"\n",
              "            title=\"Suggest charts\"\n",
              "            style=\"display:none;\">\n",
              "\n",
              "<svg xmlns=\"http://www.w3.org/2000/svg\" height=\"24px\"viewBox=\"0 0 24 24\"\n",
              "     width=\"24px\">\n",
              "    <g>\n",
              "        <path d=\"M19 3H5c-1.1 0-2 .9-2 2v14c0 1.1.9 2 2 2h14c1.1 0 2-.9 2-2V5c0-1.1-.9-2-2-2zM9 17H7v-7h2v7zm4 0h-2V7h2v10zm4 0h-2v-4h2v4z\"/>\n",
              "    </g>\n",
              "</svg>\n",
              "  </button>\n",
              "\n",
              "<style>\n",
              "  .colab-df-quickchart {\n",
              "      --bg-color: #E8F0FE;\n",
              "      --fill-color: #1967D2;\n",
              "      --hover-bg-color: #E2EBFA;\n",
              "      --hover-fill-color: #174EA6;\n",
              "      --disabled-fill-color: #AAA;\n",
              "      --disabled-bg-color: #DDD;\n",
              "  }\n",
              "\n",
              "  [theme=dark] .colab-df-quickchart {\n",
              "      --bg-color: #3B4455;\n",
              "      --fill-color: #D2E3FC;\n",
              "      --hover-bg-color: #434B5C;\n",
              "      --hover-fill-color: #FFFFFF;\n",
              "      --disabled-bg-color: #3B4455;\n",
              "      --disabled-fill-color: #666;\n",
              "  }\n",
              "\n",
              "  .colab-df-quickchart {\n",
              "    background-color: var(--bg-color);\n",
              "    border: none;\n",
              "    border-radius: 50%;\n",
              "    cursor: pointer;\n",
              "    display: none;\n",
              "    fill: var(--fill-color);\n",
              "    height: 32px;\n",
              "    padding: 0;\n",
              "    width: 32px;\n",
              "  }\n",
              "\n",
              "  .colab-df-quickchart:hover {\n",
              "    background-color: var(--hover-bg-color);\n",
              "    box-shadow: 0 1px 2px rgba(60, 64, 67, 0.3), 0 1px 3px 1px rgba(60, 64, 67, 0.15);\n",
              "    fill: var(--button-hover-fill-color);\n",
              "  }\n",
              "\n",
              "  .colab-df-quickchart-complete:disabled,\n",
              "  .colab-df-quickchart-complete:disabled:hover {\n",
              "    background-color: var(--disabled-bg-color);\n",
              "    fill: var(--disabled-fill-color);\n",
              "    box-shadow: none;\n",
              "  }\n",
              "\n",
              "  .colab-df-spinner {\n",
              "    border: 2px solid var(--fill-color);\n",
              "    border-color: transparent;\n",
              "    border-bottom-color: var(--fill-color);\n",
              "    animation:\n",
              "      spin 1s steps(1) infinite;\n",
              "  }\n",
              "\n",
              "  @keyframes spin {\n",
              "    0% {\n",
              "      border-color: transparent;\n",
              "      border-bottom-color: var(--fill-color);\n",
              "      border-left-color: var(--fill-color);\n",
              "    }\n",
              "    20% {\n",
              "      border-color: transparent;\n",
              "      border-left-color: var(--fill-color);\n",
              "      border-top-color: var(--fill-color);\n",
              "    }\n",
              "    30% {\n",
              "      border-color: transparent;\n",
              "      border-left-color: var(--fill-color);\n",
              "      border-top-color: var(--fill-color);\n",
              "      border-right-color: var(--fill-color);\n",
              "    }\n",
              "    40% {\n",
              "      border-color: transparent;\n",
              "      border-right-color: var(--fill-color);\n",
              "      border-top-color: var(--fill-color);\n",
              "    }\n",
              "    60% {\n",
              "      border-color: transparent;\n",
              "      border-right-color: var(--fill-color);\n",
              "    }\n",
              "    80% {\n",
              "      border-color: transparent;\n",
              "      border-right-color: var(--fill-color);\n",
              "      border-bottom-color: var(--fill-color);\n",
              "    }\n",
              "    90% {\n",
              "      border-color: transparent;\n",
              "      border-bottom-color: var(--fill-color);\n",
              "    }\n",
              "  }\n",
              "</style>\n",
              "\n",
              "  <script>\n",
              "    async function quickchart(key) {\n",
              "      const quickchartButtonEl =\n",
              "        document.querySelector('#' + key + ' button');\n",
              "      quickchartButtonEl.disabled = true;  // To prevent multiple clicks.\n",
              "      quickchartButtonEl.classList.add('colab-df-spinner');\n",
              "      try {\n",
              "        const charts = await google.colab.kernel.invokeFunction(\n",
              "            'suggestCharts', [key], {});\n",
              "      } catch (error) {\n",
              "        console.error('Error during call to suggestCharts:', error);\n",
              "      }\n",
              "      quickchartButtonEl.classList.remove('colab-df-spinner');\n",
              "      quickchartButtonEl.classList.add('colab-df-quickchart-complete');\n",
              "    }\n",
              "    (() => {\n",
              "      let quickchartButtonEl =\n",
              "        document.querySelector('#df-2ea54919-fc78-4628-aa87-531672f87fa8 button');\n",
              "      quickchartButtonEl.style.display =\n",
              "        google.colab.kernel.accessAllowed ? 'block' : 'none';\n",
              "    })();\n",
              "  </script>\n",
              "</div>\n",
              "\n",
              "    </div>\n",
              "  </div>\n"
            ],
            "application/vnd.google.colaboratory.intrinsic+json": {
              "type": "dataframe",
              "variable_name": "df",
              "summary": "{\n  \"name\": \"df\",\n  \"rows\": 1436,\n  \"fields\": [\n    {\n      \"column\": \"Unnamed: 0\",\n      \"properties\": {\n        \"dtype\": \"number\",\n        \"std\": 414,\n        \"min\": 0,\n        \"max\": 1435,\n        \"num_unique_values\": 1436,\n        \"samples\": [\n          594,\n          754,\n          630\n        ],\n        \"semantic_type\": \"\",\n        \"description\": \"\"\n      }\n    },\n    {\n      \"column\": \"Age\",\n      \"properties\": {\n        \"dtype\": \"number\",\n        \"std\": 23.460031807018577,\n        \"min\": 0.01,\n        \"max\": 92.0,\n        \"num_unique_values\": 99,\n        \"samples\": [\n          53.0,\n          51.0,\n          92.0\n        ],\n        \"semantic_type\": \"\",\n        \"description\": \"\"\n      }\n    },\n    {\n      \"column\": \"Gender\",\n      \"properties\": {\n        \"dtype\": \"category\",\n        \"num_unique_values\": 2,\n        \"samples\": [\n          \"MALE\",\n          \"FEMALE\"\n        ],\n        \"semantic_type\": \"\",\n        \"description\": \"\"\n      }\n    },\n    {\n      \"column\": \"Color\",\n      \"properties\": {\n        \"dtype\": \"category\",\n        \"num_unique_values\": 10,\n        \"samples\": [\n          \"REDDISH YELLOW\",\n          \"DARK YELLOW\"\n        ],\n        \"semantic_type\": \"\",\n        \"description\": \"\"\n      }\n    },\n    {\n      \"column\": \"Transparency\",\n      \"properties\": {\n        \"dtype\": \"category\",\n        \"num_unique_values\": 5,\n        \"samples\": [\n          \"SLIGHTLY HAZY\",\n          \"TURBID\"\n        ],\n        \"semantic_type\": \"\",\n        \"description\": \"\"\n      }\n    },\n    {\n      \"column\": \"Glucose\",\n      \"properties\": {\n        \"dtype\": \"category\",\n        \"num_unique_values\": 6,\n        \"samples\": [\n          \"NEGATIVE\",\n          \"3+\"\n        ],\n        \"semantic_type\": \"\",\n        \"description\": \"\"\n      }\n    },\n    {\n      \"column\": \"Protein\",\n      \"properties\": {\n        \"dtype\": \"category\",\n        \"num_unique_values\": 5,\n        \"samples\": [\n          \"1+\",\n          \"3+\"\n        ],\n        \"semantic_type\": \"\",\n        \"description\": \"\"\n      }\n    },\n    {\n      \"column\": \"pH\",\n      \"properties\": {\n        \"dtype\": \"number\",\n        \"std\": 0.5984752495340492,\n        \"min\": 5.0,\n        \"max\": 8.0,\n        \"num_unique_values\": 6,\n        \"samples\": [\n          5.0,\n          6.0\n        ],\n        \"semantic_type\": \"\",\n        \"description\": \"\"\n      }\n    },\n    {\n      \"column\": \"Specific Gravity\",\n      \"properties\": {\n        \"dtype\": \"number\",\n        \"std\": 0.0072853014041999445,\n        \"min\": 1.005,\n        \"max\": 1.03,\n        \"num_unique_values\": 6,\n        \"samples\": [\n          1.01,\n          1.03\n        ],\n        \"semantic_type\": \"\",\n        \"description\": \"\"\n      }\n    },\n    {\n      \"column\": \"WBC\",\n      \"properties\": {\n        \"dtype\": \"category\",\n        \"num_unique_values\": 75,\n        \"samples\": [\n          \"3-5\",\n          \"3-7\"\n        ],\n        \"semantic_type\": \"\",\n        \"description\": \"\"\n      }\n    },\n    {\n      \"column\": \"RBC\",\n      \"properties\": {\n        \"dtype\": \"category\",\n        \"num_unique_values\": 53,\n        \"samples\": [\n          \"10-12\",\n          \"1-6\"\n        ],\n        \"semantic_type\": \"\",\n        \"description\": \"\"\n      }\n    },\n    {\n      \"column\": \"Epithelial Cells\",\n      \"properties\": {\n        \"dtype\": \"category\",\n        \"num_unique_values\": 7,\n        \"samples\": [\n          \"OCCASIONAL\",\n          \"RARE\"\n        ],\n        \"semantic_type\": \"\",\n        \"description\": \"\"\n      }\n    },\n    {\n      \"column\": \"Mucous Threads\",\n      \"properties\": {\n        \"dtype\": \"category\",\n        \"num_unique_values\": 6,\n        \"samples\": [\n          \"RARE\",\n          \"FEW\"\n        ],\n        \"semantic_type\": \"\",\n        \"description\": \"\"\n      }\n    },\n    {\n      \"column\": \"Amorphous Urates\",\n      \"properties\": {\n        \"dtype\": \"category\",\n        \"num_unique_values\": 6,\n        \"samples\": [\n          \"NONE SEEN\",\n          \"FEW\"\n        ],\n        \"semantic_type\": \"\",\n        \"description\": \"\"\n      }\n    },\n    {\n      \"column\": \"Bacteria\",\n      \"properties\": {\n        \"dtype\": \"category\",\n        \"num_unique_values\": 6,\n        \"samples\": [\n          \"OCCASIONAL\",\n          \"MODERATE\"\n        ],\n        \"semantic_type\": \"\",\n        \"description\": \"\"\n      }\n    },\n    {\n      \"column\": \"Diagnosis\",\n      \"properties\": {\n        \"dtype\": \"category\",\n        \"num_unique_values\": 2,\n        \"samples\": [\n          \"POSITIVE\",\n          \"NEGATIVE\"\n        ],\n        \"semantic_type\": \"\",\n        \"description\": \"\"\n      }\n    }\n  ]\n}"
            }
          },
          "metadata": {},
          "execution_count": 2
        }
      ]
    },
    {
      "cell_type": "code",
      "source": [
        "df.info()"
      ],
      "metadata": {
        "colab": {
          "base_uri": "https://localhost:8080/"
        },
        "id": "PXBg8k1gDiyI",
        "outputId": "59d4ed5c-014b-4d9f-9465-34ffabff0722"
      },
      "execution_count": null,
      "outputs": [
        {
          "output_type": "stream",
          "name": "stdout",
          "text": [
            "<class 'pandas.core.frame.DataFrame'>\n",
            "RangeIndex: 1436 entries, 0 to 1435\n",
            "Data columns (total 16 columns):\n",
            " #   Column            Non-Null Count  Dtype  \n",
            "---  ------            --------------  -----  \n",
            " 0   Unnamed: 0        1436 non-null   int64  \n",
            " 1   Age               1436 non-null   float64\n",
            " 2   Gender            1436 non-null   object \n",
            " 3   Color             1435 non-null   object \n",
            " 4   Transparency      1436 non-null   object \n",
            " 5   Glucose           1436 non-null   object \n",
            " 6   Protein           1436 non-null   object \n",
            " 7   pH                1436 non-null   float64\n",
            " 8   Specific Gravity  1436 non-null   float64\n",
            " 9   WBC               1436 non-null   object \n",
            " 10  RBC               1436 non-null   object \n",
            " 11  Epithelial Cells  1436 non-null   object \n",
            " 12  Mucous Threads    1436 non-null   object \n",
            " 13  Amorphous Urates  1436 non-null   object \n",
            " 14  Bacteria          1436 non-null   object \n",
            " 15  Diagnosis         1436 non-null   object \n",
            "dtypes: float64(3), int64(1), object(12)\n",
            "memory usage: 179.6+ KB\n"
          ]
        }
      ]
    },
    {
      "cell_type": "code",
      "source": [
        "df.isna().sum()"
      ],
      "metadata": {
        "colab": {
          "base_uri": "https://localhost:8080/",
          "height": 586
        },
        "id": "Cy5ZuflWDnCA",
        "outputId": "f9c7053d-1807-46a1-84a1-6f8af2ddb72b"
      },
      "execution_count": null,
      "outputs": [
        {
          "output_type": "execute_result",
          "data": {
            "text/plain": [
              "Unnamed: 0          0\n",
              "Age                 0\n",
              "Gender              0\n",
              "Color               1\n",
              "Transparency        0\n",
              "Glucose             0\n",
              "Protein             0\n",
              "pH                  0\n",
              "Specific Gravity    0\n",
              "WBC                 0\n",
              "RBC                 0\n",
              "Epithelial Cells    0\n",
              "Mucous Threads      0\n",
              "Amorphous Urates    0\n",
              "Bacteria            0\n",
              "Diagnosis           0\n",
              "dtype: int64"
            ],
            "text/html": [
              "<div>\n",
              "<style scoped>\n",
              "    .dataframe tbody tr th:only-of-type {\n",
              "        vertical-align: middle;\n",
              "    }\n",
              "\n",
              "    .dataframe tbody tr th {\n",
              "        vertical-align: top;\n",
              "    }\n",
              "\n",
              "    .dataframe thead th {\n",
              "        text-align: right;\n",
              "    }\n",
              "</style>\n",
              "<table border=\"1\" class=\"dataframe\">\n",
              "  <thead>\n",
              "    <tr style=\"text-align: right;\">\n",
              "      <th></th>\n",
              "      <th>0</th>\n",
              "    </tr>\n",
              "  </thead>\n",
              "  <tbody>\n",
              "    <tr>\n",
              "      <th>Unnamed: 0</th>\n",
              "      <td>0</td>\n",
              "    </tr>\n",
              "    <tr>\n",
              "      <th>Age</th>\n",
              "      <td>0</td>\n",
              "    </tr>\n",
              "    <tr>\n",
              "      <th>Gender</th>\n",
              "      <td>0</td>\n",
              "    </tr>\n",
              "    <tr>\n",
              "      <th>Color</th>\n",
              "      <td>1</td>\n",
              "    </tr>\n",
              "    <tr>\n",
              "      <th>Transparency</th>\n",
              "      <td>0</td>\n",
              "    </tr>\n",
              "    <tr>\n",
              "      <th>Glucose</th>\n",
              "      <td>0</td>\n",
              "    </tr>\n",
              "    <tr>\n",
              "      <th>Protein</th>\n",
              "      <td>0</td>\n",
              "    </tr>\n",
              "    <tr>\n",
              "      <th>pH</th>\n",
              "      <td>0</td>\n",
              "    </tr>\n",
              "    <tr>\n",
              "      <th>Specific Gravity</th>\n",
              "      <td>0</td>\n",
              "    </tr>\n",
              "    <tr>\n",
              "      <th>WBC</th>\n",
              "      <td>0</td>\n",
              "    </tr>\n",
              "    <tr>\n",
              "      <th>RBC</th>\n",
              "      <td>0</td>\n",
              "    </tr>\n",
              "    <tr>\n",
              "      <th>Epithelial Cells</th>\n",
              "      <td>0</td>\n",
              "    </tr>\n",
              "    <tr>\n",
              "      <th>Mucous Threads</th>\n",
              "      <td>0</td>\n",
              "    </tr>\n",
              "    <tr>\n",
              "      <th>Amorphous Urates</th>\n",
              "      <td>0</td>\n",
              "    </tr>\n",
              "    <tr>\n",
              "      <th>Bacteria</th>\n",
              "      <td>0</td>\n",
              "    </tr>\n",
              "    <tr>\n",
              "      <th>Diagnosis</th>\n",
              "      <td>0</td>\n",
              "    </tr>\n",
              "  </tbody>\n",
              "</table>\n",
              "</div><br><label><b>dtype:</b> int64</label>"
            ]
          },
          "metadata": {},
          "execution_count": 5
        }
      ]
    },
    {
      "cell_type": "code",
      "source": [
        "df.duplicated().sum()"
      ],
      "metadata": {
        "colab": {
          "base_uri": "https://localhost:8080/"
        },
        "id": "NdnLw4gyDx_Q",
        "outputId": "27d3e903-ce95-4cbf-f003-215f96e7b174"
      },
      "execution_count": null,
      "outputs": [
        {
          "output_type": "execute_result",
          "data": {
            "text/plain": [
              "0"
            ]
          },
          "metadata": {},
          "execution_count": 6
        }
      ]
    },
    {
      "cell_type": "code",
      "source": [
        "df=df.dropna()"
      ],
      "metadata": {
        "id": "a5knVHbND8R4"
      },
      "execution_count": null,
      "outputs": []
    },
    {
      "cell_type": "code",
      "source": [
        "df.shape"
      ],
      "metadata": {
        "colab": {
          "base_uri": "https://localhost:8080/"
        },
        "id": "8P8k06xaEGvI",
        "outputId": "f9d6a1bc-c0a5-47ad-abc5-c80172c959b2"
      },
      "execution_count": null,
      "outputs": [
        {
          "output_type": "execute_result",
          "data": {
            "text/plain": [
              "(1435, 16)"
            ]
          },
          "metadata": {},
          "execution_count": 8
        }
      ]
    },
    {
      "cell_type": "code",
      "source": [
        "df=df.drop(columns='Unnamed: 0', axis=1)"
      ],
      "metadata": {
        "id": "hgy6sZLMETs4"
      },
      "execution_count": null,
      "outputs": []
    },
    {
      "cell_type": "code",
      "source": [
        "df.tail()"
      ],
      "metadata": {
        "colab": {
          "base_uri": "https://localhost:8080/",
          "height": 330
        },
        "id": "NTRbINqNFFuY",
        "outputId": "6bb591c7-4d02-4da1-f8f5-d4f170dd23d9"
      },
      "execution_count": null,
      "outputs": [
        {
          "output_type": "execute_result",
          "data": {
            "text/plain": [
              "        Age  Gender        Color Transparency   Glucose   Protein   pH  \\\n",
              "1431   0.06    MALE       YELLOW        CLEAR  NEGATIVE  NEGATIVE  6.0   \n",
              "1432  42.00    MALE       YELLOW        CLEAR  NEGATIVE  NEGATIVE  6.5   \n",
              "1433  47.00  FEMALE  DARK YELLOW        CLEAR  NEGATIVE     TRACE  6.0   \n",
              "1434  57.00  FEMALE  DARK YELLOW        CLEAR  NEGATIVE     TRACE  5.0   \n",
              "1435   3.00    MALE       YELLOW        CLEAR  NEGATIVE  NEGATIVE  6.0   \n",
              "\n",
              "      Specific Gravity  WBC  RBC Epithelial Cells Mucous Threads  \\\n",
              "1431             1.015  1-2  0-1             RARE            FEW   \n",
              "1432             1.010  0-2  0-2             RARE      NONE SEEN   \n",
              "1433             1.030  2-4  0-2         MODERATE       MODERATE   \n",
              "1434             1.030  0-2  0-2           PLENTY         PLENTY   \n",
              "1435             1.020  0-1  0-2             RARE           RARE   \n",
              "\n",
              "     Amorphous Urates Bacteria Diagnosis  \n",
              "1431        NONE SEEN     RARE  NEGATIVE  \n",
              "1432        NONE SEEN     RARE  NEGATIVE  \n",
              "1433        NONE SEEN     RARE  NEGATIVE  \n",
              "1434        NONE SEEN      FEW  NEGATIVE  \n",
              "1435        NONE SEEN     RARE  NEGATIVE  "
            ],
            "text/html": [
              "\n",
              "  <div id=\"df-1ffd9bb6-0204-4250-a62a-5864a88563c2\" class=\"colab-df-container\">\n",
              "    <div>\n",
              "<style scoped>\n",
              "    .dataframe tbody tr th:only-of-type {\n",
              "        vertical-align: middle;\n",
              "    }\n",
              "\n",
              "    .dataframe tbody tr th {\n",
              "        vertical-align: top;\n",
              "    }\n",
              "\n",
              "    .dataframe thead th {\n",
              "        text-align: right;\n",
              "    }\n",
              "</style>\n",
              "<table border=\"1\" class=\"dataframe\">\n",
              "  <thead>\n",
              "    <tr style=\"text-align: right;\">\n",
              "      <th></th>\n",
              "      <th>Age</th>\n",
              "      <th>Gender</th>\n",
              "      <th>Color</th>\n",
              "      <th>Transparency</th>\n",
              "      <th>Glucose</th>\n",
              "      <th>Protein</th>\n",
              "      <th>pH</th>\n",
              "      <th>Specific Gravity</th>\n",
              "      <th>WBC</th>\n",
              "      <th>RBC</th>\n",
              "      <th>Epithelial Cells</th>\n",
              "      <th>Mucous Threads</th>\n",
              "      <th>Amorphous Urates</th>\n",
              "      <th>Bacteria</th>\n",
              "      <th>Diagnosis</th>\n",
              "    </tr>\n",
              "  </thead>\n",
              "  <tbody>\n",
              "    <tr>\n",
              "      <th>1431</th>\n",
              "      <td>0.06</td>\n",
              "      <td>MALE</td>\n",
              "      <td>YELLOW</td>\n",
              "      <td>CLEAR</td>\n",
              "      <td>NEGATIVE</td>\n",
              "      <td>NEGATIVE</td>\n",
              "      <td>6.0</td>\n",
              "      <td>1.015</td>\n",
              "      <td>1-2</td>\n",
              "      <td>0-1</td>\n",
              "      <td>RARE</td>\n",
              "      <td>FEW</td>\n",
              "      <td>NONE SEEN</td>\n",
              "      <td>RARE</td>\n",
              "      <td>NEGATIVE</td>\n",
              "    </tr>\n",
              "    <tr>\n",
              "      <th>1432</th>\n",
              "      <td>42.00</td>\n",
              "      <td>MALE</td>\n",
              "      <td>YELLOW</td>\n",
              "      <td>CLEAR</td>\n",
              "      <td>NEGATIVE</td>\n",
              "      <td>NEGATIVE</td>\n",
              "      <td>6.5</td>\n",
              "      <td>1.010</td>\n",
              "      <td>0-2</td>\n",
              "      <td>0-2</td>\n",
              "      <td>RARE</td>\n",
              "      <td>NONE SEEN</td>\n",
              "      <td>NONE SEEN</td>\n",
              "      <td>RARE</td>\n",
              "      <td>NEGATIVE</td>\n",
              "    </tr>\n",
              "    <tr>\n",
              "      <th>1433</th>\n",
              "      <td>47.00</td>\n",
              "      <td>FEMALE</td>\n",
              "      <td>DARK YELLOW</td>\n",
              "      <td>CLEAR</td>\n",
              "      <td>NEGATIVE</td>\n",
              "      <td>TRACE</td>\n",
              "      <td>6.0</td>\n",
              "      <td>1.030</td>\n",
              "      <td>2-4</td>\n",
              "      <td>0-2</td>\n",
              "      <td>MODERATE</td>\n",
              "      <td>MODERATE</td>\n",
              "      <td>NONE SEEN</td>\n",
              "      <td>RARE</td>\n",
              "      <td>NEGATIVE</td>\n",
              "    </tr>\n",
              "    <tr>\n",
              "      <th>1434</th>\n",
              "      <td>57.00</td>\n",
              "      <td>FEMALE</td>\n",
              "      <td>DARK YELLOW</td>\n",
              "      <td>CLEAR</td>\n",
              "      <td>NEGATIVE</td>\n",
              "      <td>TRACE</td>\n",
              "      <td>5.0</td>\n",
              "      <td>1.030</td>\n",
              "      <td>0-2</td>\n",
              "      <td>0-2</td>\n",
              "      <td>PLENTY</td>\n",
              "      <td>PLENTY</td>\n",
              "      <td>NONE SEEN</td>\n",
              "      <td>FEW</td>\n",
              "      <td>NEGATIVE</td>\n",
              "    </tr>\n",
              "    <tr>\n",
              "      <th>1435</th>\n",
              "      <td>3.00</td>\n",
              "      <td>MALE</td>\n",
              "      <td>YELLOW</td>\n",
              "      <td>CLEAR</td>\n",
              "      <td>NEGATIVE</td>\n",
              "      <td>NEGATIVE</td>\n",
              "      <td>6.0</td>\n",
              "      <td>1.020</td>\n",
              "      <td>0-1</td>\n",
              "      <td>0-2</td>\n",
              "      <td>RARE</td>\n",
              "      <td>RARE</td>\n",
              "      <td>NONE SEEN</td>\n",
              "      <td>RARE</td>\n",
              "      <td>NEGATIVE</td>\n",
              "    </tr>\n",
              "  </tbody>\n",
              "</table>\n",
              "</div>\n",
              "    <div class=\"colab-df-buttons\">\n",
              "\n",
              "  <div class=\"colab-df-container\">\n",
              "    <button class=\"colab-df-convert\" onclick=\"convertToInteractive('df-1ffd9bb6-0204-4250-a62a-5864a88563c2')\"\n",
              "            title=\"Convert this dataframe to an interactive table.\"\n",
              "            style=\"display:none;\">\n",
              "\n",
              "  <svg xmlns=\"http://www.w3.org/2000/svg\" height=\"24px\" viewBox=\"0 -960 960 960\">\n",
              "    <path d=\"M120-120v-720h720v720H120Zm60-500h600v-160H180v160Zm220 220h160v-160H400v160Zm0 220h160v-160H400v160ZM180-400h160v-160H180v160Zm440 0h160v-160H620v160ZM180-180h160v-160H180v160Zm440 0h160v-160H620v160Z\"/>\n",
              "  </svg>\n",
              "    </button>\n",
              "\n",
              "  <style>\n",
              "    .colab-df-container {\n",
              "      display:flex;\n",
              "      gap: 12px;\n",
              "    }\n",
              "\n",
              "    .colab-df-convert {\n",
              "      background-color: #E8F0FE;\n",
              "      border: none;\n",
              "      border-radius: 50%;\n",
              "      cursor: pointer;\n",
              "      display: none;\n",
              "      fill: #1967D2;\n",
              "      height: 32px;\n",
              "      padding: 0 0 0 0;\n",
              "      width: 32px;\n",
              "    }\n",
              "\n",
              "    .colab-df-convert:hover {\n",
              "      background-color: #E2EBFA;\n",
              "      box-shadow: 0px 1px 2px rgba(60, 64, 67, 0.3), 0px 1px 3px 1px rgba(60, 64, 67, 0.15);\n",
              "      fill: #174EA6;\n",
              "    }\n",
              "\n",
              "    .colab-df-buttons div {\n",
              "      margin-bottom: 4px;\n",
              "    }\n",
              "\n",
              "    [theme=dark] .colab-df-convert {\n",
              "      background-color: #3B4455;\n",
              "      fill: #D2E3FC;\n",
              "    }\n",
              "\n",
              "    [theme=dark] .colab-df-convert:hover {\n",
              "      background-color: #434B5C;\n",
              "      box-shadow: 0px 1px 3px 1px rgba(0, 0, 0, 0.15);\n",
              "      filter: drop-shadow(0px 1px 2px rgba(0, 0, 0, 0.3));\n",
              "      fill: #FFFFFF;\n",
              "    }\n",
              "  </style>\n",
              "\n",
              "    <script>\n",
              "      const buttonEl =\n",
              "        document.querySelector('#df-1ffd9bb6-0204-4250-a62a-5864a88563c2 button.colab-df-convert');\n",
              "      buttonEl.style.display =\n",
              "        google.colab.kernel.accessAllowed ? 'block' : 'none';\n",
              "\n",
              "      async function convertToInteractive(key) {\n",
              "        const element = document.querySelector('#df-1ffd9bb6-0204-4250-a62a-5864a88563c2');\n",
              "        const dataTable =\n",
              "          await google.colab.kernel.invokeFunction('convertToInteractive',\n",
              "                                                    [key], {});\n",
              "        if (!dataTable) return;\n",
              "\n",
              "        const docLinkHtml = 'Like what you see? Visit the ' +\n",
              "          '<a target=\"_blank\" href=https://colab.research.google.com/notebooks/data_table.ipynb>data table notebook</a>'\n",
              "          + ' to learn more about interactive tables.';\n",
              "        element.innerHTML = '';\n",
              "        dataTable['output_type'] = 'display_data';\n",
              "        await google.colab.output.renderOutput(dataTable, element);\n",
              "        const docLink = document.createElement('div');\n",
              "        docLink.innerHTML = docLinkHtml;\n",
              "        element.appendChild(docLink);\n",
              "      }\n",
              "    </script>\n",
              "  </div>\n",
              "\n",
              "\n",
              "<div id=\"df-e376e49d-9cac-46de-bc04-792688dedb08\">\n",
              "  <button class=\"colab-df-quickchart\" onclick=\"quickchart('df-e376e49d-9cac-46de-bc04-792688dedb08')\"\n",
              "            title=\"Suggest charts\"\n",
              "            style=\"display:none;\">\n",
              "\n",
              "<svg xmlns=\"http://www.w3.org/2000/svg\" height=\"24px\"viewBox=\"0 0 24 24\"\n",
              "     width=\"24px\">\n",
              "    <g>\n",
              "        <path d=\"M19 3H5c-1.1 0-2 .9-2 2v14c0 1.1.9 2 2 2h14c1.1 0 2-.9 2-2V5c0-1.1-.9-2-2-2zM9 17H7v-7h2v7zm4 0h-2V7h2v10zm4 0h-2v-4h2v4z\"/>\n",
              "    </g>\n",
              "</svg>\n",
              "  </button>\n",
              "\n",
              "<style>\n",
              "  .colab-df-quickchart {\n",
              "      --bg-color: #E8F0FE;\n",
              "      --fill-color: #1967D2;\n",
              "      --hover-bg-color: #E2EBFA;\n",
              "      --hover-fill-color: #174EA6;\n",
              "      --disabled-fill-color: #AAA;\n",
              "      --disabled-bg-color: #DDD;\n",
              "  }\n",
              "\n",
              "  [theme=dark] .colab-df-quickchart {\n",
              "      --bg-color: #3B4455;\n",
              "      --fill-color: #D2E3FC;\n",
              "      --hover-bg-color: #434B5C;\n",
              "      --hover-fill-color: #FFFFFF;\n",
              "      --disabled-bg-color: #3B4455;\n",
              "      --disabled-fill-color: #666;\n",
              "  }\n",
              "\n",
              "  .colab-df-quickchart {\n",
              "    background-color: var(--bg-color);\n",
              "    border: none;\n",
              "    border-radius: 50%;\n",
              "    cursor: pointer;\n",
              "    display: none;\n",
              "    fill: var(--fill-color);\n",
              "    height: 32px;\n",
              "    padding: 0;\n",
              "    width: 32px;\n",
              "  }\n",
              "\n",
              "  .colab-df-quickchart:hover {\n",
              "    background-color: var(--hover-bg-color);\n",
              "    box-shadow: 0 1px 2px rgba(60, 64, 67, 0.3), 0 1px 3px 1px rgba(60, 64, 67, 0.15);\n",
              "    fill: var(--button-hover-fill-color);\n",
              "  }\n",
              "\n",
              "  .colab-df-quickchart-complete:disabled,\n",
              "  .colab-df-quickchart-complete:disabled:hover {\n",
              "    background-color: var(--disabled-bg-color);\n",
              "    fill: var(--disabled-fill-color);\n",
              "    box-shadow: none;\n",
              "  }\n",
              "\n",
              "  .colab-df-spinner {\n",
              "    border: 2px solid var(--fill-color);\n",
              "    border-color: transparent;\n",
              "    border-bottom-color: var(--fill-color);\n",
              "    animation:\n",
              "      spin 1s steps(1) infinite;\n",
              "  }\n",
              "\n",
              "  @keyframes spin {\n",
              "    0% {\n",
              "      border-color: transparent;\n",
              "      border-bottom-color: var(--fill-color);\n",
              "      border-left-color: var(--fill-color);\n",
              "    }\n",
              "    20% {\n",
              "      border-color: transparent;\n",
              "      border-left-color: var(--fill-color);\n",
              "      border-top-color: var(--fill-color);\n",
              "    }\n",
              "    30% {\n",
              "      border-color: transparent;\n",
              "      border-left-color: var(--fill-color);\n",
              "      border-top-color: var(--fill-color);\n",
              "      border-right-color: var(--fill-color);\n",
              "    }\n",
              "    40% {\n",
              "      border-color: transparent;\n",
              "      border-right-color: var(--fill-color);\n",
              "      border-top-color: var(--fill-color);\n",
              "    }\n",
              "    60% {\n",
              "      border-color: transparent;\n",
              "      border-right-color: var(--fill-color);\n",
              "    }\n",
              "    80% {\n",
              "      border-color: transparent;\n",
              "      border-right-color: var(--fill-color);\n",
              "      border-bottom-color: var(--fill-color);\n",
              "    }\n",
              "    90% {\n",
              "      border-color: transparent;\n",
              "      border-bottom-color: var(--fill-color);\n",
              "    }\n",
              "  }\n",
              "</style>\n",
              "\n",
              "  <script>\n",
              "    async function quickchart(key) {\n",
              "      const quickchartButtonEl =\n",
              "        document.querySelector('#' + key + ' button');\n",
              "      quickchartButtonEl.disabled = true;  // To prevent multiple clicks.\n",
              "      quickchartButtonEl.classList.add('colab-df-spinner');\n",
              "      try {\n",
              "        const charts = await google.colab.kernel.invokeFunction(\n",
              "            'suggestCharts', [key], {});\n",
              "      } catch (error) {\n",
              "        console.error('Error during call to suggestCharts:', error);\n",
              "      }\n",
              "      quickchartButtonEl.classList.remove('colab-df-spinner');\n",
              "      quickchartButtonEl.classList.add('colab-df-quickchart-complete');\n",
              "    }\n",
              "    (() => {\n",
              "      let quickchartButtonEl =\n",
              "        document.querySelector('#df-e376e49d-9cac-46de-bc04-792688dedb08 button');\n",
              "      quickchartButtonEl.style.display =\n",
              "        google.colab.kernel.accessAllowed ? 'block' : 'none';\n",
              "    })();\n",
              "  </script>\n",
              "</div>\n",
              "\n",
              "    </div>\n",
              "  </div>\n"
            ],
            "application/vnd.google.colaboratory.intrinsic+json": {
              "type": "dataframe",
              "summary": "{\n  \"name\": \"df\",\n  \"rows\": 5,\n  \"fields\": [\n    {\n      \"column\": \"Age\",\n      \"properties\": {\n        \"dtype\": \"number\",\n        \"std\": 26.397096810066067,\n        \"min\": 0.06,\n        \"max\": 57.0,\n        \"num_unique_values\": 5,\n        \"samples\": [\n          42.0,\n          3.0,\n          47.0\n        ],\n        \"semantic_type\": \"\",\n        \"description\": \"\"\n      }\n    },\n    {\n      \"column\": \"Gender\",\n      \"properties\": {\n        \"dtype\": \"category\",\n        \"num_unique_values\": 2,\n        \"samples\": [\n          \"FEMALE\",\n          \"MALE\"\n        ],\n        \"semantic_type\": \"\",\n        \"description\": \"\"\n      }\n    },\n    {\n      \"column\": \"Color\",\n      \"properties\": {\n        \"dtype\": \"category\",\n        \"num_unique_values\": 2,\n        \"samples\": [\n          \"DARK YELLOW\",\n          \"YELLOW\"\n        ],\n        \"semantic_type\": \"\",\n        \"description\": \"\"\n      }\n    },\n    {\n      \"column\": \"Transparency\",\n      \"properties\": {\n        \"dtype\": \"category\",\n        \"num_unique_values\": 1,\n        \"samples\": [\n          \"CLEAR\"\n        ],\n        \"semantic_type\": \"\",\n        \"description\": \"\"\n      }\n    },\n    {\n      \"column\": \"Glucose\",\n      \"properties\": {\n        \"dtype\": \"category\",\n        \"num_unique_values\": 1,\n        \"samples\": [\n          \"NEGATIVE\"\n        ],\n        \"semantic_type\": \"\",\n        \"description\": \"\"\n      }\n    },\n    {\n      \"column\": \"Protein\",\n      \"properties\": {\n        \"dtype\": \"category\",\n        \"num_unique_values\": 2,\n        \"samples\": [\n          \"TRACE\"\n        ],\n        \"semantic_type\": \"\",\n        \"description\": \"\"\n      }\n    },\n    {\n      \"column\": \"pH\",\n      \"properties\": {\n        \"dtype\": \"number\",\n        \"std\": 0.5477225575051662,\n        \"min\": 5.0,\n        \"max\": 6.5,\n        \"num_unique_values\": 3,\n        \"samples\": [\n          6.0\n        ],\n        \"semantic_type\": \"\",\n        \"description\": \"\"\n      }\n    },\n    {\n      \"column\": \"Specific Gravity\",\n      \"properties\": {\n        \"dtype\": \"number\",\n        \"std\": 0.008944271909999186,\n        \"min\": 1.01,\n        \"max\": 1.03,\n        \"num_unique_values\": 4,\n        \"samples\": [\n          1.01\n        ],\n        \"semantic_type\": \"\",\n        \"description\": \"\"\n      }\n    },\n    {\n      \"column\": \"WBC\",\n      \"properties\": {\n        \"dtype\": \"string\",\n        \"num_unique_values\": 4,\n        \"samples\": [\n          \"0-2\"\n        ],\n        \"semantic_type\": \"\",\n        \"description\": \"\"\n      }\n    },\n    {\n      \"column\": \"RBC\",\n      \"properties\": {\n        \"dtype\": \"category\",\n        \"num_unique_values\": 2,\n        \"samples\": [\n          \"0-2\"\n        ],\n        \"semantic_type\": \"\",\n        \"description\": \"\"\n      }\n    },\n    {\n      \"column\": \"Epithelial Cells\",\n      \"properties\": {\n        \"dtype\": \"string\",\n        \"num_unique_values\": 3,\n        \"samples\": [\n          \"RARE\"\n        ],\n        \"semantic_type\": \"\",\n        \"description\": \"\"\n      }\n    },\n    {\n      \"column\": \"Mucous Threads\",\n      \"properties\": {\n        \"dtype\": \"string\",\n        \"num_unique_values\": 5,\n        \"samples\": [\n          \"NONE SEEN\"\n        ],\n        \"semantic_type\": \"\",\n        \"description\": \"\"\n      }\n    },\n    {\n      \"column\": \"Amorphous Urates\",\n      \"properties\": {\n        \"dtype\": \"category\",\n        \"num_unique_values\": 1,\n        \"samples\": [\n          \"NONE SEEN\"\n        ],\n        \"semantic_type\": \"\",\n        \"description\": \"\"\n      }\n    },\n    {\n      \"column\": \"Bacteria\",\n      \"properties\": {\n        \"dtype\": \"category\",\n        \"num_unique_values\": 2,\n        \"samples\": [\n          \"FEW\"\n        ],\n        \"semantic_type\": \"\",\n        \"description\": \"\"\n      }\n    },\n    {\n      \"column\": \"Diagnosis\",\n      \"properties\": {\n        \"dtype\": \"category\",\n        \"num_unique_values\": 1,\n        \"samples\": [\n          \"NEGATIVE\"\n        ],\n        \"semantic_type\": \"\",\n        \"description\": \"\"\n      }\n    }\n  ]\n}"
            }
          },
          "metadata": {},
          "execution_count": 10
        }
      ]
    },
    {
      "cell_type": "code",
      "source": [
        "df['Glucose'].unique()"
      ],
      "metadata": {
        "colab": {
          "base_uri": "https://localhost:8080/"
        },
        "id": "jBtAxD44FF2Z",
        "outputId": "a108c39b-e0e1-4753-899c-33d00fbf3873"
      },
      "execution_count": null,
      "outputs": [
        {
          "output_type": "execute_result",
          "data": {
            "text/plain": [
              "array(['NEGATIVE', '3+', '1+', 'TRACE', '4+', '2+'], dtype=object)"
            ]
          },
          "metadata": {},
          "execution_count": 11
        }
      ]
    },
    {
      "cell_type": "code",
      "source": [
        "converting_dict={\n",
        "    'NEGATIVE':0,\n",
        "    'TRACE':0.5,\n",
        "    '1+':1,\n",
        "    '2+':2,\n",
        "    '3+':3,\n",
        "    '4+':4\n",
        "}\n",
        "\n",
        "df['Glucose']=df['Glucose'].map(converting_dict)"
      ],
      "metadata": {
        "id": "xeNAWmSgFF7m"
      },
      "execution_count": null,
      "outputs": []
    },
    {
      "cell_type": "code",
      "source": [
        "df['Protein'].unique()"
      ],
      "metadata": {
        "colab": {
          "base_uri": "https://localhost:8080/"
        },
        "id": "wkj5OShOdKkR",
        "outputId": "8a7fc9b9-8a4a-47f2-f6a3-aad56dd8570d"
      },
      "execution_count": null,
      "outputs": [
        {
          "output_type": "execute_result",
          "data": {
            "text/plain": [
              "array(['NEGATIVE', '1+', 'TRACE', '2+', '3+'], dtype=object)"
            ]
          },
          "metadata": {},
          "execution_count": 13
        }
      ]
    },
    {
      "cell_type": "code",
      "source": [
        "def map_protein(value):\n",
        "    mapping = {\n",
        "        \"NEGATIVE\": 0,\n",
        "        \"TRACE\": 0.5,\n",
        "        \"1+\": 1,\n",
        "        \"2+\": 2,\n",
        "        \"3+\": 3\n",
        "    }\n",
        "    return mapping.get(value, np.nan)\n",
        "\n",
        "df['Protein'] = df['Protein'].apply(map_protein)\n"
      ],
      "metadata": {
        "id": "u_dKLRPfdskh"
      },
      "execution_count": null,
      "outputs": []
    },
    {
      "cell_type": "code",
      "source": [
        "df['WBC'].unique()"
      ],
      "metadata": {
        "colab": {
          "base_uri": "https://localhost:8080/"
        },
        "id": "xyOs4V4JI3Jo",
        "outputId": "902714f2-d06b-4cc7-f2e3-c0eb0afc8daf"
      },
      "execution_count": null,
      "outputs": [
        {
          "output_type": "execute_result",
          "data": {
            "text/plain": [
              "array(['1-3', '0-3', '5-8', '1-4', '3-5', '70-75', '0-2', '1-2', '2-4',\n",
              "       '6-8', '8-10', '10-12', '0-1', '4-6', '20-25', '25-30', '18-25',\n",
              "       '3-6', 'LOADED', '28-30', '5-7', '12-15', '15-17', '30-35', '8-12',\n",
              "       '2-3', '35-40', '50-55', '11-15', '48-55', '45-50', '12-14',\n",
              "       '14-16', '17-20', '55-58', '9-11', '>50', '15-20', '20-22',\n",
              "       '18-20', '7-9', 'TNTC', '2-5', '34-36', '30-32', '23-25', '5-10',\n",
              "       '9-15', '13-15', '4-8', '11-14', '10-16', '7-15', '7-8', '0-4',\n",
              "       '15-22', '15-21', '>100', '7-10', '15-28', '1-5', '4-5', '2-7',\n",
              "       '3-7', '10-15', '4-7', '79-85', '28-35', '3-10', '5-6', '3-4',\n",
              "       '15-18', '4-10', '10-18', '8-11'], dtype=object)"
            ]
          },
          "metadata": {},
          "execution_count": 15
        }
      ]
    },
    {
      "cell_type": "code",
      "source": [
        "def process_bc(value):\n",
        "    if '-' in value:\n",
        "\n",
        "        low, high = map(int, value.split('-'))\n",
        "        return (low + high) / 2\n",
        "    elif value in ['LOADED', 'TNTC']:\n",
        "        return 100\n",
        "    elif '>' in value:\n",
        "        return int(value[1:]) + 1\n",
        "    elif value == '0-0':\n",
        "        return 0\n",
        "    else:\n",
        "        return np.nan\n",
        "\n"
      ],
      "metadata": {
        "id": "_iYIMuqiJciw"
      },
      "execution_count": null,
      "outputs": []
    },
    {
      "cell_type": "code",
      "source": [
        "df['WBC']=df['WBC'].apply(process_bc)\n",
        "df['RBC']=df['RBC'].apply(process_bc)\n"
      ],
      "metadata": {
        "id": "6MjA2BMe-y6g"
      },
      "execution_count": null,
      "outputs": []
    },
    {
      "cell_type": "code",
      "source": [
        "df['WBC'].unique()"
      ],
      "metadata": {
        "colab": {
          "base_uri": "https://localhost:8080/"
        },
        "id": "-klWYNMUNYEw",
        "outputId": "5356c52b-a6e8-4a5d-9c91-56c73a3c3bfb"
      },
      "execution_count": null,
      "outputs": [
        {
          "output_type": "execute_result",
          "data": {
            "text/plain": [
              "array([  2. ,   1.5,   6.5,   2.5,   4. ,  72.5,   1. ,   3. ,   7. ,\n",
              "         9. ,  11. ,   0.5,   5. ,  22.5,  27.5,  21.5,   4.5, 100. ,\n",
              "        29. ,   6. ,  13.5,  16. ,  32.5,  10. ,  37.5,  52.5,  13. ,\n",
              "        51.5,  47.5,  15. ,  18.5,  56.5,  51. ,  17.5,  21. ,  19. ,\n",
              "         8. ,   3.5,  35. ,  31. ,  24. ,   7.5,  12. ,  14. ,  12.5,\n",
              "        18. , 101. ,   8.5,   5.5,  82. ,  31.5,  16.5,   9.5])"
            ]
          },
          "metadata": {},
          "execution_count": 18
        }
      ]
    },
    {
      "cell_type": "code",
      "source": [
        "df.info()"
      ],
      "metadata": {
        "colab": {
          "base_uri": "https://localhost:8080/"
        },
        "id": "i7FaX7L9ek-8",
        "outputId": "64ae578f-b062-4c00-ef3e-4df76434d6b2"
      },
      "execution_count": null,
      "outputs": [
        {
          "output_type": "stream",
          "name": "stdout",
          "text": [
            "<class 'pandas.core.frame.DataFrame'>\n",
            "Index: 1435 entries, 0 to 1435\n",
            "Data columns (total 15 columns):\n",
            " #   Column            Non-Null Count  Dtype  \n",
            "---  ------            --------------  -----  \n",
            " 0   Age               1435 non-null   float64\n",
            " 1   Gender            1435 non-null   object \n",
            " 2   Color             1435 non-null   object \n",
            " 3   Transparency      1435 non-null   object \n",
            " 4   Glucose           1435 non-null   float64\n",
            " 5   Protein           1435 non-null   float64\n",
            " 6   pH                1435 non-null   float64\n",
            " 7   Specific Gravity  1435 non-null   float64\n",
            " 8   WBC               1435 non-null   float64\n",
            " 9   RBC               1435 non-null   float64\n",
            " 10  Epithelial Cells  1435 non-null   object \n",
            " 11  Mucous Threads    1435 non-null   object \n",
            " 12  Amorphous Urates  1435 non-null   object \n",
            " 13  Bacteria          1435 non-null   object \n",
            " 14  Diagnosis         1435 non-null   object \n",
            "dtypes: float64(7), object(8)\n",
            "memory usage: 179.4+ KB\n"
          ]
        }
      ]
    },
    {
      "cell_type": "markdown",
      "source": [
        "Problem Statement:\n",
        "\n",
        "\"What are the main abnormal parameters for UTI diagnosis and how it effect the age and gender.\""
      ],
      "metadata": {
        "id": "sqHLjdPOB6Tz"
      }
    },
    {
      "cell_type": "code",
      "source": [
        "# Define abnormal thresholds for the parameters\n",
        "thresholds = {\n",
        "    'WBC': 5,\n",
        "    'Protein': 1,\n",
        "    'Glucose': 1,\n",
        "    'RBC': 3\n",
        "}\n",
        "\n",
        "# Calculate the frequency of abnormal results for each parameter\n",
        "def calculate_abnormal_frequency(column, threshold):\n",
        "    abnormal = df[df[column] > threshold]\n",
        "    return len(abnormal) / len(df) * 100  # percentage\n",
        "\n",
        "abnormal_frequencies = {param: calculate_abnormal_frequency(param, thresholds[param]) for param in thresholds}\n",
        "print(abnormal_frequencies)\n"
      ],
      "metadata": {
        "colab": {
          "base_uri": "https://localhost:8080/"
        },
        "id": "p4d-iHtSZyuV",
        "outputId": "71c93264-ee31-42c7-a1b6-35dfb3e9b8f3"
      },
      "execution_count": null,
      "outputs": [
        {
          "output_type": "stream",
          "name": "stdout",
          "text": [
            "{'WBC': 20.0, 'Protein': 3.2055749128919864, 'Glucose': 4.111498257839721, 'RBC': 11.0801393728223}\n"
          ]
        }
      ]
    },
    {
      "cell_type": "code",
      "source": [
        "##What is the distribution of abnormal results across different age groups?\n",
        "# Create age groups\n",
        "df['Age_group'] = pd.cut(df['Age'], bins=[0, 18, 40, 60, 100], labels=['<18', '18-40', '40-60', '60+'])\n",
        "\n",
        "# Calculate abnormal results by age group\n",
        "abnormal_WBC_by_age = df[df['WBC'] > thresholds['WBC']].groupby('Age_group').size()\n",
        "abnormal_Protein_by_age = df[df['Protein'] > thresholds['Protein']].groupby('Age_group').size()\n",
        "abnormal_Glucose_by_age = df[df['Glucose'] > thresholds['Glucose']].groupby('Age_group').size()\n",
        "abnormal_RBC_by_age = df[df['RBC'] > thresholds['RBC']].groupby('Age_group').size()\n",
        "abnomal_by_age=pd.concat([abnormal_WBC_by_age, abnormal_Protein_by_age, abnormal_Glucose_by_age, abnormal_RBC_by_age], axis=1, keys=['WBC', 'Protein', 'Glucose', 'RBC'])\n",
        "abnomal_by_age['Total']=abnomal_by_age.sum(axis=1)\n",
        "print(abnomal_by_age)\n",
        "\n",
        "# Plotting age group vs total abnormal results\n",
        "plt.figure(figsize=(10, 6))\n",
        "sns.barplot(x=abnomal_by_age.index, y=abnomal_by_age['Total'])\n",
        "plt.xlabel(\"Age Group\")\n",
        "plt.ylabel(\"Total Abnormal Results\")\n",
        "plt.title(\"Age Group vs Total Abnormal Results\")\n",
        "plt.show()"
      ],
      "metadata": {
        "colab": {
          "base_uri": "https://localhost:8080/",
          "height": 564
        },
        "id": "SVDG4l2IZyqy",
        "outputId": "9315857b-8df9-43a7-c405-3b186aff2c59"
      },
      "execution_count": null,
      "outputs": [
        {
          "output_type": "display_data",
          "data": {
            "text/plain": [
              "<Figure size 1000x600 with 1 Axes>"
            ],
            "image/png": "[encoded data removed]"
          },
          "metadata": {}
        }
      ]
    },
    {
      "cell_type": "code",
      "source": [
        "## Abnormal urinalysis results variation in diagnostic of UTI\n",
        "# Group by diagnosis and calculate the frequency of abnormal results\n",
        "abnormal_by_diagnosis = df.groupby('Diagnosis').agg({\n",
        "    'WBC': lambda x: (x > thresholds['WBC']).sum(),\n",
        "    'Protein': lambda x: (x > thresholds['Protein']).sum(),\n",
        "    'Glucose': lambda x: (x > thresholds['Glucose']).sum(),\n",
        "    'RBC': lambda x: (x > thresholds['RBC']).sum()\n",
        "})\n",
        "\n",
        "abnormal_by_diagnosis['total']=abnormal_by_diagnosis.sum(axis=1)\n",
        "print(abnormal_by_diagnosis)\n",
        "\n",
        "\n",
        "# Plotting diagnosis vs total abnormal results\n",
        "plt.figure(figsize=(4,4))\n",
        "plt.pie(abnormal_by_diagnosis['total'], labels=abnormal_by_diagnosis.index, autopct='%1.1f%%')\n",
        "plt.title(\"Diagnosis vs Total Abnormal Results\")\n",
        "plt.axis('equal')  # Equal aspect ratio ensures that pie is drawn as a circle.\n",
        "plt.show()\n",
        "\n",
        "\n"
      ],
      "metadata": {
        "colab": {
          "base_uri": "https://localhost:8080/",
          "height": 441
        },
        "id": "p_4QRVmvlN6t",
        "outputId": "402f9d87-2760-449d-f860-8d2cc110f4d1"
      },
      "execution_count": null,
      "outputs": [
        {
          "output_type": "stream",
          "name": "stdout",
          "text": [
            "           WBC  Protein  Glucose  RBC  total\n",
            "Diagnosis                                   \n",
            "NEGATIVE   233       39       52  148    472\n",
            "POSITIVE    54        7        7   11     79\n"
          ]
        },
        {
          "output_type": "display_data",
          "data": {
            "text/plain": [
              "<Figure size 400x400 with 1 Axes>"
            ],
            "image/png": "[encoded data removed]"
          },
          "metadata": {}
        }
      ]
    },
    {
      "cell_type": "code",
      "source": [
        "##Primary Risk Factors in UTI Cases\n",
        "abnormal_params = {\n",
        "    'Glucose': (df['Glucose'] > 1).mean(),\n",
        "    'Protein': (df['Protein'] > 1).mean(),\n",
        "    'WBC': (df['WBC'] > 5).mean(),\n",
        "    'RBC': (df['RBC'] > 3).mean(),\n",
        "    'pH': ((df['pH'] < 5) | (df['pH'] > 8.0)).mean()\n",
        "}\n",
        "\n",
        "abnormal_df = pd.DataFrame(abnormal_params, index=['Abnormal Rate']).T\n",
        "abnormal_df.sort_values(by='Abnormal Rate', ascending=False, inplace=True)\n",
        "print(abnormal_df)\n",
        "\n",
        "\n",
        "abnormal_df.plot(kind='bar', figsize=(8, 5), color='coral')\n",
        "plt.title('Primary Risk Factors in UTI Cases')\n",
        "plt.ylabel('Abnormal Rate')\n",
        "plt.show()\n"
      ],
      "metadata": {
        "colab": {
          "base_uri": "https://localhost:8080/",
          "height": 620
        },
        "id": "13u1buH5-6hg",
        "outputId": "740e65c6-b78f-445e-f8e1-df9f0993f182"
      },
      "execution_count": null,
      "outputs": [
        {
          "output_type": "stream",
          "name": "stdout",
          "text": [
            "         Abnormal Rate\n",
            "WBC           0.200000\n",
            "RBC           0.110801\n",
            "Glucose       0.041115\n",
            "Protein       0.032056\n",
            "pH            0.000000\n"
          ]
        },
        {
          "output_type": "display_data",
          "data": {
            "text/plain": [
              "<Figure size 800x500 with 1 Axes>"
            ],
            "image/png": "[encoded data removed]"
          },
          "metadata": {}
        }
      ]
    },
    {
      "cell_type": "code",
      "source": [
        "positive_data=df[df['Diagnosis']=='POSITIVE']\n",
        "negative_data = df[df['Diagnosis'] == 'NEGATIVE']"
      ],
      "metadata": {
        "id": "jrG1wy2f-f8x"
      },
      "execution_count": null,
      "outputs": []
    },
    {
      "cell_type": "code",
      "source": [
        "##Urine Color Distribution in UTI Diagnosis\n",
        "positive_color_counts = positive_data.groupby('Color').size().reset_index(name='Count')\n",
        "negative_color_counts = negative_data.groupby('Color').size().reset_index(name='Count')\n",
        "\n",
        "\n",
        "fig = make_subplots(rows=1, cols=2, subplot_titles=('Positive UTI Cases', 'Negative UTI Cases'),\n",
        "                    specs=[[{'type': 'pie'}, {'type': 'pie'}]])\n",
        "\n",
        "\n",
        "fig.add_trace(go.Pie(labels=positive_color_counts['Color'],\n",
        "                     values=positive_color_counts['Count'],\n",
        "                     name=\"Positive UTI\",\n",
        "                     textinfo='label+percent',\n",
        "                     textposition='inside',\n",
        "                     hole=0.3),\n",
        "              row=1, col=1)\n",
        "\n",
        "\n",
        "fig.add_trace(go.Pie(labels=negative_color_counts['Color'],\n",
        "                     values=negative_color_counts['Count'],\n",
        "                     name=\"Negative UTI\",\n",
        "                     textinfo='label+percent',\n",
        "                     textposition='inside',\n",
        "                     hole=0.3),\n",
        "              row=1, col=2)\n",
        "\n",
        "\n",
        "fig.update_layout(title_text=\"Urine Color Distribution in UTI Diagnosis\",\n",
        "                  height=600,\n",
        "                  showlegend=True)\n",
        "\n",
        "\n",
        "fig.show()"
      ],
      "metadata": {
        "colab": {
          "base_uri": "https://localhost:8080/",
          "height": 617
        },
        "id": "Gnvkr4eX-To1",
        "outputId": "94fcd012-046a-49e4-a11d-7c1b7b989c41"
      },
      "execution_count": null,
      "outputs": [
        {
          "output_type": "display_data",
          "data": {
            "text/html": [
              "<html>\n",
              "<head><meta charset=\"utf-8\" /></head>\n",
              "<body>\n",
              "    <div>            <script src=\"https://cdnjs.cloudflare.com/ajax/libs/mathjax/2.7.5/MathJax.js?config=TeX-AMS-MML_SVG\"></script><script type=\"text/javascript\">if (window.MathJax && window.MathJax.Hub && window.MathJax.Hub.Config) {window.MathJax.Hub.Config({SVG: {font: \"STIX-Web\"}});}</script>                <script type=\"text/javascript\">window.PlotlyConfig = {MathJaxConfig: 'local'};</script>\n",
              "        <script charset=\"utf-8\" src=\"https://cdn.plot.ly/plotly-2.35.2.min.js\"></script>                <div id=\"5e7c21db-5642-4b36-bf8b-752cee7d2b98\" class=\"plotly-graph-div\" style=\"height:600px; width:100%;\"></div>            <script type=\"text/javascript\">                                    window.PLOTLYENV=window.PLOTLYENV || {};                                    if (document.getElementById(\"5e7c21db-5642-4b36-bf8b-752cee7d2b98\")) {                    Plotly.newPlot(                        \"5e7c21db-5642-4b36-bf8b-752cee7d2b98\",                        [{\"hole\":0.3,\"labels\":[\"AMBER\",\"DARK YELLOW\",\"LIGHT YELLOW\",\"REDDISH YELLOW\",\"STRAW\",\"YELLOW\"],\"name\":\"Positive UTI\",\"textinfo\":\"label+percent\",\"textposition\":\"inside\",\"values\":[1,13,16,1,5,45],\"type\":\"pie\",\"domain\":{\"x\":[0.0,0.45],\"y\":[0.0,1.0]}},{\"hole\":0.3,\"labels\":[\"AMBER\",\"BROWN\",\"DARK YELLOW\",\"LIGHT RED\",\"LIGHT YELLOW\",\"RED\",\"REDDISH\",\"STRAW\",\"YELLOW\"],\"name\":\"Negative UTI\",\"textinfo\":\"label+percent\",\"textposition\":\"inside\",\"values\":[14,1,235,1,325,1,1,111,665],\"type\":\"pie\",\"domain\":{\"x\":[0.55,1.0],\"y\":[0.0,1.0]}}],                        {\"template\":{\"data\":{\"histogram2dcontour\":[{\"type\":\"histogram2dcontour\",\"colorbar\":{\"outlinewidth\":0,\"ticks\":\"\"},\"colorscale\":[[0.0,\"#0d0887\"],[0.1111111111111111,\"#46039f\"],[0.2222222222222222,\"#7201a8\"],[0.3333333333333333,\"#9c179e\"],[0.4444444444444444,\"#bd3786\"],[0.5555555555555556,\"#d8576b\"],[0.6666666666666666,\"#ed7953\"],[0.7777777777777778,\"#fb9f3a\"],[0.8888888888888888,\"#fdca26\"],[1.0,\"#f0f921\"]]}],\"choropleth\":[{\"type\":\"choropleth\",\"colorbar\":{\"outlinewidth\":0,\"ticks\":\"\"}}],\"histogram2d\":[{\"type\":\"histogram2d\",\"colorbar\":{\"outlinewidth\":0,\"ticks\":\"\"},\"colorscale\":[[0.0,\"#0d0887\"],[0.1111111111111111,\"#46039f\"],[0.2222222222222222,\"#7201a8\"],[0.3333333333333333,\"#9c179e\"],[0.4444444444444444,\"#bd3786\"],[0.5555555555555556,\"#d8576b\"],[0.6666666666666666,\"#ed7953\"],[0.7777777777777778,\"#fb9f3a\"],[0.8888888888888888,\"#fdca26\"],[1.0,\"#f0f921\"]]}],\"heatmap\":[{\"type\":\"heatmap\",\"colorbar\":{\"outlinewidth\":0,\"ticks\":\"\"},\"colorscale\":[[0.0,\"#0d0887\"],[0.1111111111111111,\"#46039f\"],[0.2222222222222222,\"#7201a8\"],[0.3333333333333333,\"#9c179e\"],[0.4444444444444444,\"#bd3786\"],[0.5555555555555556,\"#d8576b\"],[0.6666666666666666,\"#ed7953\"],[0.7777777777777778,\"#fb9f3a\"],[0.8888888888888888,\"#fdca26\"],[1.0,\"#f0f921\"]]}],\"heatmapgl\":[{\"type\":\"heatmapgl\",\"colorbar\":{\"outlinewidth\":0,\"ticks\":\"\"},\"colorscale\":[[0.0,\"#0d0887\"],[0.1111111111111111,\"#46039f\"],[0.2222222222222222,\"#7201a8\"],[0.3333333333333333,\"#9c179e\"],[0.4444444444444444,\"#bd3786\"],[0.5555555555555556,\"#d8576b\"],[0.6666666666666666,\"#ed7953\"],[0.7777777777777778,\"#fb9f3a\"],[0.8888888888888888,\"#fdca26\"],[1.0,\"#f0f921\"]]}],\"contourcarpet\":[{\"type\":\"contourcarpet\",\"colorbar\":{\"outlinewidth\":0,\"ticks\":\"\"}}],\"contour\":[{\"type\":\"contour\",\"colorbar\":{\"outlinewidth\":0,\"ticks\":\"\"},\"colorscale\":[[0.0,\"#0d0887\"],[0.1111111111111111,\"#46039f\"],[0.2222222222222222,\"#7201a8\"],[0.3333333333333333,\"#9c179e\"],[0.4444444444444444,\"#bd3786\"],[0.5555555555555556,\"#d8576b\"],[0.6666666666666666,\"#ed7953\"],[0.7777777777777778,\"#fb9f3a\"],[0.8888888888888888,\"#fdca26\"],[1.0,\"#f0f921\"]]}],\"surface\":[{\"type\":\"surface\",\"colorbar\":{\"outlinewidth\":0,\"ticks\":\"\"},\"colorscale\":[[0.0,\"#0d0887\"],[0.1111111111111111,\"#46039f\"],[0.2222222222222222,\"#7201a8\"],[0.3333333333333333,\"#9c179e\"],[0.4444444444444444,\"#bd3786\"],[0.5555555555555556,\"#d8576b\"],[0.6666666666666666,\"#ed7953\"],[0.7777777777777778,\"#fb9f3a\"],[0.8888888888888888,\"#fdca26\"],[1.0,\"#f0f921\"]]}],\"mesh3d\":[{\"type\":\"mesh3d\",\"colorbar\":{\"outlinewidth\":0,\"ticks\":\"\"}}],\"scatter\":[{\"fillpattern\":{\"fillmode\":\"overlay\",\"size\":10,\"solidity\":0.2},\"type\":\"scatter\"}],\"parcoords\":[{\"type\":\"parcoords\",\"line\":{\"colorbar\":{\"outlinewidth\":0,\"ticks\":\"\"}}}],\"scatterpolargl\":[{\"type\":\"scatterpolargl\",\"marker\":{\"colorbar\":{\"outlinewidth\":0,\"ticks\":\"\"}}}],\"bar\":[{\"error_x\":{\"color\":\"#2a3f5f\"},\"error_y\":{\"color\":\"#2a3f5f\"},\"marker\":{\"line\":{\"color\":\"#E5ECF6\",\"width\":0.5},\"pattern\":{\"fillmode\":\"overlay\",\"size\":10,\"solidity\":0.2}},\"type\":\"bar\"}],\"scattergeo\":[{\"type\":\"scattergeo\",\"marker\":{\"colorbar\":{\"outlinewidth\":0,\"ticks\":\"\"}}}],\"scatterpolar\":[{\"type\":\"scatterpolar\",\"marker\":{\"colorbar\":{\"outlinewidth\":0,\"ticks\":\"\"}}}],\"histogram\":[{\"marker\":{\"pattern\":{\"fillmode\":\"overlay\",\"size\":10,\"solidity\":0.2}},\"type\":\"histogram\"}],\"scattergl\":[{\"type\":\"scattergl\",\"marker\":{\"colorbar\":{\"outlinewidth\":0,\"ticks\":\"\"}}}],\"scatter3d\":[{\"type\":\"scatter3d\",\"line\":{\"colorbar\":{\"outlinewidth\":0,\"ticks\":\"\"}},\"marker\":{\"colorbar\":{\"outlinewidth\":0,\"ticks\":\"\"}}}],\"scattermapbox\":[{\"type\":\"scattermapbox\",\"marker\":{\"colorbar\":{\"outlinewidth\":0,\"ticks\":\"\"}}}],\"scatterternary\":[{\"type\":\"scatterternary\",\"marker\":{\"colorbar\":{\"outlinewidth\":0,\"ticks\":\"\"}}}],\"scattercarpet\":[{\"type\":\"scattercarpet\",\"marker\":{\"colorbar\":{\"outlinewidth\":0,\"ticks\":\"\"}}}],\"carpet\":[{\"aaxis\":{\"endlinecolor\":\"#2a3f5f\",\"gridcolor\":\"white\",\"linecolor\":\"white\",\"minorgridcolor\":\"white\",\"startlinecolor\":\"#2a3f5f\"},\"baxis\":{\"endlinecolor\":\"#2a3f5f\",\"gridcolor\":\"white\",\"linecolor\":\"white\",\"minorgridcolor\":\"white\",\"startlinecolor\":\"#2a3f5f\"},\"type\":\"carpet\"}],\"table\":[{\"cells\":{\"fill\":{\"color\":\"#EBF0F8\"},\"line\":{\"color\":\"white\"}},\"header\":{\"fill\":{\"color\":\"#C8D4E3\"},\"line\":{\"color\":\"white\"}},\"type\":\"table\"}],\"barpolar\":[{\"marker\":{\"line\":{\"color\":\"#E5ECF6\",\"width\":0.5},\"pattern\":{\"fillmode\":\"overlay\",\"size\":10,\"solidity\":0.2}},\"type\":\"barpolar\"}],\"pie\":[{\"automargin\":true,\"type\":\"pie\"}]},\"layout\":{\"autotypenumbers\":\"strict\",\"colorway\":[\"#636efa\",\"#EF553B\",\"#00cc96\",\"#ab63fa\",\"#FFA15A\",\"#19d3f3\",\"#FF6692\",\"#B6E880\",\"#FF97FF\",\"#FECB52\"],\"font\":{\"color\":\"#2a3f5f\"},\"hovermode\":\"closest\",\"hoverlabel\":{\"align\":\"left\"},\"paper_bgcolor\":\"white\",\"plot_bgcolor\":\"#E5ECF6\",\"polar\":{\"bgcolor\":\"#E5ECF6\",\"angularaxis\":{\"gridcolor\":\"white\",\"linecolor\":\"white\",\"ticks\":\"\"},\"radialaxis\":{\"gridcolor\":\"white\",\"linecolor\":\"white\",\"ticks\":\"\"}},\"ternary\":{\"bgcolor\":\"#E5ECF6\",\"aaxis\":{\"gridcolor\":\"white\",\"linecolor\":\"white\",\"ticks\":\"\"},\"baxis\":{\"gridcolor\":\"white\",\"linecolor\":\"white\",\"ticks\":\"\"},\"caxis\":{\"gridcolor\":\"white\",\"linecolor\":\"white\",\"ticks\":\"\"}},\"coloraxis\":{\"colorbar\":{\"outlinewidth\":0,\"ticks\":\"\"}},\"colorscale\":{\"sequential\":[[0.0,\"#0d0887\"],[0.1111111111111111,\"#46039f\"],[0.2222222222222222,\"#7201a8\"],[0.3333333333333333,\"#9c179e\"],[0.4444444444444444,\"#bd3786\"],[0.5555555555555556,\"#d8576b\"],[0.6666666666666666,\"#ed7953\"],[0.7777777777777778,\"#fb9f3a\"],[0.8888888888888888,\"#fdca26\"],[1.0,\"#f0f921\"]],\"sequentialminus\":[[0.0,\"#0d0887\"],[0.1111111111111111,\"#46039f\"],[0.2222222222222222,\"#7201a8\"],[0.3333333333333333,\"#9c179e\"],[0.4444444444444444,\"#bd3786\"],[0.5555555555555556,\"#d8576b\"],[0.6666666666666666,\"#ed7953\"],[0.7777777777777778,\"#fb9f3a\"],[0.8888888888888888,\"#fdca26\"],[1.0,\"#f0f921\"]],\"diverging\":[[0,\"#8e0152\"],[0.1,\"#c51b7d\"],[0.2,\"#de77ae\"],[0.3,\"#f1b6da\"],[0.4,\"#fde0ef\"],[0.5,\"#f7f7f7\"],[0.6,\"#e6f5d0\"],[0.7,\"#b8e186\"],[0.8,\"#7fbc41\"],[0.9,\"#4d9221\"],[1,\"#276419\"]]},\"xaxis\":{\"gridcolor\":\"white\",\"linecolor\":\"white\",\"ticks\":\"\",\"title\":{\"standoff\":15},\"zerolinecolor\":\"white\",\"automargin\":true,\"zerolinewidth\":2},\"yaxis\":{\"gridcolor\":\"white\",\"linecolor\":\"white\",\"ticks\":\"\",\"title\":{\"standoff\":15},\"zerolinecolor\":\"white\",\"automargin\":true,\"zerolinewidth\":2},\"scene\":{\"xaxis\":{\"backgroundcolor\":\"#E5ECF6\",\"gridcolor\":\"white\",\"linecolor\":\"white\",\"showbackground\":true,\"ticks\":\"\",\"zerolinecolor\":\"white\",\"gridwidth\":2},\"yaxis\":{\"backgroundcolor\":\"#E5ECF6\",\"gridcolor\":\"white\",\"linecolor\":\"white\",\"showbackground\":true,\"ticks\":\"\",\"zerolinecolor\":\"white\",\"gridwidth\":2},\"zaxis\":{\"backgroundcolor\":\"#E5ECF6\",\"gridcolor\":\"white\",\"linecolor\":\"white\",\"showbackground\":true,\"ticks\":\"\",\"zerolinecolor\":\"white\",\"gridwidth\":2}},\"shapedefaults\":{\"line\":{\"color\":\"#2a3f5f\"}},\"annotationdefaults\":{\"arrowcolor\":\"#2a3f5f\",\"arrowhead\":0,\"arrowwidth\":1},\"geo\":{\"bgcolor\":\"white\",\"landcolor\":\"#E5ECF6\",\"subunitcolor\":\"white\",\"showland\":true,\"showlakes\":true,\"lakecolor\":\"white\"},\"title\":{\"x\":0.05},\"mapbox\":{\"style\":\"light\"}}},\"annotations\":[{\"font\":{\"size\":16},\"showarrow\":false,\"text\":\"Positive UTI Cases\",\"x\":0.225,\"xanchor\":\"center\",\"xref\":\"paper\",\"y\":1.0,\"yanchor\":\"bottom\",\"yref\":\"paper\"},{\"font\":{\"size\":16},\"showarrow\":false,\"text\":\"Negative UTI Cases\",\"x\":0.775,\"xanchor\":\"center\",\"xref\":\"paper\",\"y\":1.0,\"yanchor\":\"bottom\",\"yref\":\"paper\"}],\"title\":{\"text\":\"Urine Color Distribution in UTI Diagnosis\"},\"height\":600,\"showlegend\":true},                        {\"responsive\": true}                    ).then(function(){\n",
              "                            \n",
              "var gd = document.getElementById('5e7c21db-5642-4b36-bf8b-752cee7d2b98');\n",
              "var x = new MutationObserver(function (mutations, observer) {{\n",
              "        var display = window.getComputedStyle(gd).display;\n",
              "        if (!display || display === 'none') {{\n",
              "            console.log([gd, 'removed!']);\n",
              "            Plotly.purge(gd);\n",
              "            observer.disconnect();\n",
              "        }}\n",
              "}});\n",
              "\n",
              "// Listen for the removal of the full notebook cells\n",
              "var notebookContainer = gd.closest('#notebook-container');\n",
              "if (notebookContainer) {{\n",
              "    x.observe(notebookContainer, {childList: true});\n",
              "}}\n",
              "\n",
              "// Listen for the clearing of the current output cell\n",
              "var outputEl = gd.closest('.output');\n",
              "if (outputEl) {{\n",
              "    x.observe(outputEl, {childList: true});\n",
              "}}\n",
              "\n",
              "                        })                };                            </script>        </div>\n",
              "</body>\n",
              "</html>"
            ]
          },
          "metadata": {}
        }
      ]
    },
    {
      "cell_type": "code",
      "source": [
        "#How does urine Tranparency vary between positive and negative diagnoses?\n",
        "plt.figure(figsize=(10,6))\n",
        "sns.countplot(x='Transparency', hue='Diagnosis', data=df)\n",
        "plt.title('Urine Transparency by UTI Diagnosis')\n",
        "plt.xticks(rotation=45)\n",
        "plt.show()\n"
      ],
      "metadata": {
        "colab": {
          "base_uri": "https://localhost:8080/",
          "height": 635
        },
        "id": "KbsaGPcOhRqV",
        "outputId": "725cf4d9-58ea-4903-8792-4b0220cb8eb9"
      },
      "execution_count": null,
      "outputs": [
        {
          "output_type": "display_data",
          "data": {
            "text/plain": [
              "<Figure size 1000x600 with 1 Axes>"
            ],
            "image/png": "[encoded data removed]"
          },
          "metadata": {}
        }
      ]
    },
    {
      "cell_type": "code",
      "source": [
        "## Gender Distribution in UTI-Positive Cases\n",
        "gender_counts = positive_data['Gender'].value_counts()\n",
        "\n",
        "plt.figure(figsize=(4,4))\n",
        "plt.pie(gender_counts, labels=gender_counts.index, autopct='%1.1f%%', startangle=90)\n",
        "plt.title('Gender Distribution in UTI-Positive Cases')\n",
        "plt.show()"
      ],
      "metadata": {
        "colab": {
          "base_uri": "https://localhost:8080/",
          "height": 367
        },
        "id": "LEdYOU3y9BCo",
        "outputId": "f6d6bfb3-d604-45f1-cf02-faa446ba9380"
      },
      "execution_count": null,
      "outputs": [
        {
          "output_type": "display_data",
          "data": {
            "text/plain": [
              "<Figure size 400x400 with 1 Axes>"
            ],
            "image/png": "[encoded data removed]"
          },
          "metadata": {}
        }
      ]
    },
    {
      "cell_type": "code",
      "source": [
        "# Distribution of pH for Positive and Negative UTI Diagnosis\n",
        "plt.figure(figsize=(10,6))\n",
        "sns.kdeplot(data=df, x='pH', hue='Diagnosis', fill=True)\n",
        "plt.title('Distribution of pH for Positive and Negative UTI Diagnosis')\n",
        "plt.show()\n"
      ],
      "metadata": {
        "id": "-OF4GsWU1wiY",
        "colab": {
          "base_uri": "https://localhost:8080/",
          "height": 564
        },
        "outputId": "50bc02e8-bb3e-48d6-a25d-5f42197e7f33"
      },
      "execution_count": null,
      "outputs": [
        {
          "output_type": "display_data",
          "data": {
            "text/plain": [
              "<Figure size 1000x600 with 1 Axes>"
            ],
            "image/png": "[encoded data removed]"
          },
          "metadata": {}
        }
      ]
    },
    {
      "cell_type": "code",
      "source": [
        "## Bacteria Presence by UTI Diagnosis\n",
        "plt.figure(figsize=(8,6))\n",
        "sns.countplot(x='Bacteria', hue='Diagnosis', data=df)\n",
        "plt.title('Bacteria Presence by UTI Diagnosis')\n",
        "plt.xticks(rotation=45)\n",
        "plt.show()"
      ],
      "metadata": {
        "colab": {
          "base_uri": "https://localhost:8080/",
          "height": 624
        },
        "id": "zu93-OxRzrCT",
        "outputId": "db3e6170-905a-4e4c-acde-f25a86df2cc8"
      },
      "execution_count": null,
      "outputs": [
        {
          "output_type": "display_data",
          "data": {
            "text/plain": [
              "<Figure size 800x600 with 1 Axes>"
            ],
            "image/png": "[encoded data removed]"
          },
          "metadata": {}
        }
      ]
    },
    {
      "cell_type": "code",
      "source": [],
      "metadata": {
        "id": "2-ivChGWFyEP"
      },
      "execution_count": null,
      "outputs": []
    }
  ]
}